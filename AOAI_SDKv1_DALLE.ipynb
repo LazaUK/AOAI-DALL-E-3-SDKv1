{
 "cells": [
  {
   "cell_type": "code",
   "execution_count": 1,
   "metadata": {},
   "outputs": [],
   "source": [
    "# Importing required packages\n",
    "from openai import AzureOpenAI\n",
    "from PIL import Image\n",
    "import requests\n",
    "import json\n",
    "import os"
   ]
  },
  {
   "cell_type": "code",
   "execution_count": 2,
   "metadata": {},
   "outputs": [],
   "source": [
    "# Extracting environment variables\n",
    "AOAI_API_BASE = os.getenv(\"OPENAI_API_BASE\")\n",
    "AOAI_API_KEY = os.getenv(\"OPENAI_API_KEY\")\n",
    "AOAI_API_VERSION = os.getenv(\"OPENAI_API_VERSION\")\n",
    "AOAI_DEPLOYMENT = os.getenv(\"OPENAI_API_DEPLOY_DALLE\")"
   ]
  },
  {
   "cell_type": "code",
   "execution_count": 3,
   "metadata": {},
   "outputs": [],
   "source": [
    "# Instantiate Azure OpenAI client\n",
    "client = AzureOpenAI(\n",
    "    api_version = AOAI_API_VERSION,\n",
    "    api_key = AOAI_API_KEY,\n",
    "    azure_endpoint = AOAI_API_BASE,\n",
    ")"
   ]
  },
  {
   "cell_type": "code",
   "execution_count": 4,
   "metadata": {},
   "outputs": [],
   "source": [
    "# Helper function\n",
    "def image_generator(prompt):\n",
    "    # Generate image with DALL-E 3\n",
    "    response = client.images.generate(\n",
    "        model = AOAI_DEPLOYMENT,\n",
    "        prompt = prompt,\n",
    "    )\n",
    "    \n",
    "    # Extract image URL\n",
    "    json_response = json.loads(response.model_dump_json())\n",
    "    image_url = json_response[\"data\"][0][\"url\"]\n",
    "    return image_url"
   ]
  },
  {
   "cell_type": "code",
   "execution_count": null,
   "metadata": {},
   "outputs": [],
   "source": [
    "# Generating the image\n",
    "image_url = image_generator(\"Caricature picture of a Mickey Mouse with a hat\")\n",
    "image_url"
   ]
  },
  {
   "cell_type": "code",
   "execution_count": 6,
   "metadata": {},
   "outputs": [],
   "source": [
    "# Showing the image\n",
    "image = Image.open(requests.get(image_url, stream=True).raw)\n",
    "image.show()\n"
   ]
  }
 ],
 "metadata": {
  "kernelspec": {
   "display_name": "Python 3",
   "language": "python",
   "name": "python3"
  },
  "language_info": {
   "codemirror_mode": {
    "name": "ipython",
    "version": 3
   },
   "file_extension": ".py",
   "mimetype": "text/x-python",
   "name": "python",
   "nbconvert_exporter": "python",
   "pygments_lexer": "ipython3",
   "version": "3.11.7"
  }
 },
 "nbformat": 4,
 "nbformat_minor": 2
}
